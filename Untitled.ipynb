{
 "cells": [
  {
   "cell_type": "code",
   "execution_count": 1,
   "metadata": {},
   "outputs": [
    {
     "name": "stdout",
     "output_type": "stream",
     "text": [
      "baseline.py\n",
      "base.py\n",
      "cc.en.300.bin\n",
      "chinmay_work_dir.ipynb\n",
      "Data/\n",
      "Data/trees.ptb\n",
      "Data/.ipynb_checkpoints/\n",
      "dev_o.txt\n",
      "devwithoutlabelssmall.txt\n",
      "devwithoutlabels.txt\n",
      "glove/\n",
      "glove/glove.6B.300d.txt\n",
      "^C\n"
     ]
    }
   ],
   "source": [
    "!tar chvfz notebook.tar.gz *"
   ]
  },
  {
   "cell_type": "code",
   "execution_count": null,
   "metadata": {},
   "outputs": [],
   "source": []
  }
 ],
 "metadata": {
  "kernelspec": {
   "display_name": "Python 3",
   "language": "python",
   "name": "python3"
  },
  "language_info": {
   "codemirror_mode": {
    "name": "ipython",
    "version": 2
   },
   "file_extension": ".py",
   "mimetype": "text/x-python",
   "name": "python",
   "nbconvert_exporter": "python",
   "pygments_lexer": "ipython2",
   "version": "2.7.15"
  }
 },
 "nbformat": 4,
 "nbformat_minor": 2
}
